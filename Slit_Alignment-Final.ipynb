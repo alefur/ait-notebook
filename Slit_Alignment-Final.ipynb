{
 "cells": [
  {
   "cell_type": "code",
   "execution_count": 1,
   "metadata": {},
   "outputs": [],
   "source": [
    "import sqlite3\n",
    "import os\n",
    "from skimage.feature import register_translation\n",
    "import pandas as pd\n",
    "from astropy.io import fits\n",
    "import matplotlib.pyplot as plt\n",
    "from datetime import datetime as dt\n",
    "import numpy as np\n",
    "from ginga.util import iqcalc\n",
    "from astropy.modeling import models, fitting\n",
    "from scipy.optimize import curve_fit"
   ]
  },
  {
   "cell_type": "code",
   "execution_count": 2,
   "metadata": {},
   "outputs": [],
   "source": [
    "# import LAM library for logbook, data analysis...\n",
    "from Lib_PFS_LAM import *"
   ]
  },
  {
   "cell_type": "code",
   "execution_count": 3,
   "metadata": {},
   "outputs": [],
   "source": [
    "imgPath = '/home/pfs/shared/Pictures/SM1'"
   ]
  },
  {
   "cell_type": "code",
   "execution_count": 4,
   "metadata": {},
   "outputs": [],
   "source": [
    "smId = 1"
   ]
  },
  {
   "cell_type": "code",
   "execution_count": 5,
   "metadata": {},
   "outputs": [],
   "source": [
    "# filepath of data model\n",
    "pmodel = '/home/pfs/dev/ait-notebook/optical/input/slit'\n",
    "file = 'slit-defParam-Ouverture100-fiber65.csv'"
   ]
  },
  {
   "cell_type": "code",
   "execution_count": 6,
   "metadata": {},
   "outputs": [],
   "source": [
    "zemaxData = pd.read_csv('%s/%s'%(pmodel, file), delimiter=\" \")\n",
    "zemaxMidFit = fitparabola(x=zemaxData.Slitdefocus, y=zemaxData.MidFiber, deg=15, focus='max')\n",
    "zemaxEndFit = fitparabola(x=zemaxData.Slitdefocus, y=zemaxData.ExtremeFiber, deg=15, focus='max')"
   ]
  },
  {
   "cell_type": "code",
   "execution_count": 7,
   "metadata": {},
   "outputs": [],
   "source": [
    "def getFiberPeak(filelist, ind, duplicate, doMeanBck, crit, radius=60, threshold=1000):\n",
    "    calc = iqcalc.IQCalc(None)\n",
    "    hdr, data = stackedImage(filelist=filelist, ind=ind, duplicate=duplicate, doMeanBck=doMeanBck)\n",
    "    fca_x = hdr['FCA_X']\n",
    "\n",
    "    peaks = calc.find_bright_peaks(data, threshold=threshold, radius=radius)\n",
    "\n",
    "    objlist = calc.evaluate_peaks(peaks, data, fwhm_radius=radius, cb_fn=None, ev_intr=None, fwhm_method='gaussian')\n",
    "    objlist = [ elem for elem in objlist if elem['fwhm'] > 15]\n",
    "    objlist = [ elem for elem in objlist if 1000<elem['brightness']<50000]\n",
    "    if not objlist:\n",
    "        raise ValueError('peak has not been properly detected')\n",
    "\n",
    "    for peak in objlist:\n",
    "        peak['fca_x'] = fca_x\n",
    "        peak['EE'] = getEE(peak=peak, image=data, inner_size=20, outer_size=150)\n",
    "        peak['flux_EE'] = np.sum(data)\n",
    "        # center of mass\n",
    "        peak['com_EE'] = getEE(peak=peak, image=data, inner_size=20, outer_size=150, com=True)\n",
    "        \n",
    "    maxi = np.argmax([obj[crit] for obj in objlist])\n",
    "    peak = objlist[maxi]\n",
    "    \n",
    "    return peak\n",
    "\n",
    "\n",
    "def getFiberTF(experimentId, doMeanBck, centerOfMass):\n",
    "    \n",
    "    visitStart, visitEnd = Logbook.visitRange(experimentId=experimentId)\n",
    "    filelist = constructFilelist(visitStart=visitStart, visitEnd=visitEnd)    \n",
    "    fibername = Logbook.getParameter(experimentId=experimentId, param='fiber')\n",
    "    duplicate = int(Logbook.getParameter(experimentId=experimentId, param='duplicate'))\n",
    "    dateobs = getDateObs(experimentId=experimentId)\n",
    "    \n",
    "    description = pd.DataFrame([(experimentId, dateobs, len(filelist), visitStart, visitEnd, fibername, duplicate)], \n",
    "                               columns=['experimentId', 'dateobs', 'nbImages', 'visitStart','visitEnd','fiber','duplicate'])\n",
    "\n",
    "    crit = 'com_EE' if centerOfMass else 'EE'\n",
    "    res = []\n",
    "    \n",
    "    for i in range(len(filelist)//duplicate):\n",
    "        try:\n",
    "            fiberPeak = getFiberPeak(filelist, ind=i, duplicate=duplicate, \n",
    "                                     doMeanBck=doMeanBck, \n",
    "                                     crit=crit)\n",
    "            res.append(tuple(list(fiberPeak.values())))\n",
    "\n",
    "        except ValueError:\n",
    "            pass\n",
    "    \n",
    "    return description, crit, pd.DataFrame(res, columns=list(fiberPeak.keys()))   "
   ]
  },
  {
   "cell_type": "markdown",
   "metadata": {},
   "source": [
    "## Data required : \n",
    "To be able to find the right focus, some data acquisition is required.\n",
    "\n",
    "you need to use ics_spsaitActor to perform your sequence\n",
    "\n",
    "example : <b>slit throughfocus exptime=6.0 lowBound=-0.5 upBound=1.5 fiber=engbotend nbPosition=10 duplicate=1 </b>\n",
    "\n",
    "-0.5 : 1.5 is the range of the slit focus\n"
   ]
  },
  {
   "cell_type": "markdown",
   "metadata": {},
   "source": [
    "## Input Parameters : \n",
    "The only parameters needed is the experimentIds that match your data acquisition sequence"
   ]
  },
  {
   "cell_type": "code",
   "execution_count": 8,
   "metadata": {},
   "outputs": [],
   "source": [
    "centerOfMass = True\n",
    "doMeanBck = True\n",
    "experimentId = 107 #the first experimentId is 12"
   ]
  },
  {
   "cell_type": "code",
   "execution_count": 9,
   "metadata": {},
   "outputs": [
    {
     "name": "stderr",
     "output_type": "stream",
     "text": [
      "/software/conda/lib/python3.6/site-packages/scipy/optimize/minpack.py:427: RuntimeWarning: Number of calls to function has reached maxfev = 800.\n",
      "  warnings.warn(errors[info][0], RuntimeWarning)\n"
     ]
    }
   ],
   "source": [
    "description, crit, raw_df = getFiberTF(experimentId=experimentId, doMeanBck=doMeanBck, centerOfMass=centerOfMass)"
   ]
  },
  {
   "cell_type": "code",
   "execution_count": 10,
   "metadata": {},
   "outputs": [
    {
     "data": {
      "text/html": [
       "<div>\n",
       "<style scoped>\n",
       "    .dataframe tbody tr th:only-of-type {\n",
       "        vertical-align: middle;\n",
       "    }\n",
       "\n",
       "    .dataframe tbody tr th {\n",
       "        vertical-align: top;\n",
       "    }\n",
       "\n",
       "    .dataframe thead th {\n",
       "        text-align: right;\n",
       "    }\n",
       "</style>\n",
       "<table border=\"1\" class=\"dataframe\">\n",
       "  <thead>\n",
       "    <tr style=\"text-align: right;\">\n",
       "      <th></th>\n",
       "      <th>dateobs</th>\n",
       "      <th>nbImages</th>\n",
       "      <th>visitStart</th>\n",
       "      <th>visitEnd</th>\n",
       "      <th>fiber</th>\n",
       "      <th>duplicate</th>\n",
       "    </tr>\n",
       "    <tr>\n",
       "      <th>experimentId</th>\n",
       "      <th></th>\n",
       "      <th></th>\n",
       "      <th></th>\n",
       "      <th></th>\n",
       "      <th></th>\n",
       "      <th></th>\n",
       "    </tr>\n",
       "  </thead>\n",
       "  <tbody>\n",
       "    <tr>\n",
       "      <th>107</th>\n",
       "      <td>2018-08-01T22:56:18</td>\n",
       "      <td>50</td>\n",
       "      <td>4813</td>\n",
       "      <td>4862</td>\n",
       "      <td>engtopmid</td>\n",
       "      <td>1</td>\n",
       "    </tr>\n",
       "  </tbody>\n",
       "</table>\n",
       "</div>"
      ],
      "text/plain": [
       "                          dateobs  nbImages  visitStart  visitEnd      fiber  \\\n",
       "experimentId                                                                   \n",
       "107           2018-08-01T22:56:18        50        4813      4862  engtopmid   \n",
       "\n",
       "              duplicate  \n",
       "experimentId             \n",
       "107                   1  "
      ]
     },
     "execution_count": 10,
     "metadata": {},
     "output_type": "execute_result"
    }
   ],
   "source": [
    "description.set_index('experimentId')"
   ]
  },
  {
   "cell_type": "code",
   "execution_count": 11,
   "metadata": {},
   "outputs": [],
   "source": [
    "lneg = 5\n",
    "lpos = -1"
   ]
  },
  {
   "cell_type": "code",
   "execution_count": 12,
   "metadata": {},
   "outputs": [],
   "source": [
    "df = raw_df[lneg:lpos]"
   ]
  },
  {
   "cell_type": "code",
   "execution_count": 13,
   "metadata": {
    "scrolled": true
   },
   "outputs": [],
   "source": [
    "fit_EE = fitparabola(x=df['fca_x'], y=df[crit], deg=15, focus='max')"
   ]
  },
  {
   "cell_type": "code",
   "execution_count": 14,
   "metadata": {},
   "outputs": [],
   "source": [
    "if 'mid' in description.fiber[0]:\n",
    "    zemaxRawData = zemaxData.MidFiber \n",
    "    zemaxFit = zemaxMidFit\n",
    "else:\n",
    "    zemaxRawData = zemaxData.ExtremeFiber\n",
    "    zemaxFit = zemaxEndFit"
   ]
  },
  {
   "cell_type": "code",
   "execution_count": 15,
   "metadata": {},
   "outputs": [
    {
     "data": {
      "image/png": "[encoded data removed]",
      "text/plain": [
       "<Figure size 864x576 with 1 Axes>"
      ]
     },
     "metadata": {},
     "output_type": "display_data"
    }
   ],
   "source": [
    "fig = plt.figure(figsize=(12,8))\n",
    "\n",
    "ax1 = fig.add_subplot(111)\n",
    "\n",
    "ax1.set_xlabel('FCA_X(mm)')\n",
    "ax1.set_ylabel('Ensquared Energy')\n",
    "\n",
    "ax1.plot(df['fca_x'], df[crit], 'ro', label=crit)\n",
    "ax1.plot(fit_EE.x, fit_EE.y, 'r--', label='fit pol EE')\n",
    "ax1.vlines(**fit_EE.vline)\n",
    "\n",
    "ax1.plot(zemaxData.Slitdefocus, zemaxRawData, 'go', label='EE_Zemax')\n",
    "ax1.plot(zemaxFit.x, zemaxFit.y, 'g--', label='fit poly EE_Zemax')\n",
    "ax1.vlines(**zemaxFit.vline)\n",
    "\n",
    "\n",
    "plt.title('Fiber %s - Experiment Id %i \\n focus_%s=%.3f \\n focus_zemax=%.3f  \\n %s' %(description.fiber[0], \n",
    "                                                                                      experimentId,  \n",
    "                                                                                      crit,\n",
    "                                                                                      fit_EE.focus,\n",
    "                                                                                      zemaxFit.focus, \n",
    "                                                                                      file))\n",
    "\n",
    "plt.legend()\n",
    "ax1.grid(which='major', alpha=0.6, linestyle='--')\n",
    "ax1.set_ylim(0,1)\n",
    "\n",
    "doSave=False\n",
    "\n",
    "if doSave:\n",
    "    filename = 'SM1_SLITALIGN_Model_EXP%i_Fiber%s'%(experimentId,description.fiber[0])\n",
    "    filename +=('_bck' if doMeanBck else '')\n",
    "    filename +='_%s.png'%crit\n",
    "    plt.savefig(os.path.join(imgPath, filename))\n",
    "    "
   ]
  }
 ],
 "metadata": {
  "kernelspec": {
   "display_name": "Python 3",
   "language": "python",
   "name": "python3"
  },
  "language_info": {
   "codemirror_mode": {
    "name": "ipython",
    "version": 3
   },
   "file_extension": ".py",
   "mimetype": "text/x-python",
   "name": "python",
   "nbconvert_exporter": "python",
   "pygments_lexer": "ipython3",
   "version": "3.6.4"
  }
 },
 "nbformat": 4,
 "nbformat_minor": 2
}
